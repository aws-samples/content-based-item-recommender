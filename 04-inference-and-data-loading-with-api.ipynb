{
 "cells": [
  {
   "cell_type": "markdown",
   "id": "9046ce7a-5b8a-4f69-a130-8b4056d6d990",
   "metadata": {},
   "source": [
    "# 04. Inference and Data Loading with API"
   ]
  },
  {
   "cell_type": "markdown",
   "id": "3c7a9169-ff7d-4fa4-8dc6-d11e97ee02c1",
   "metadata": {},
   "source": [
    "In this notebook we will try calling the API for inference and data loading. This notebook can be used as a reference how your application can use this solution to get the item recommendation and to load new item into the vector DB.\n",
    "\n",
    "Refer to the diagram below for the flow of Notebook 04.\n",
    "\n",
    "![Flow diagram](assets/notebook-04-flow.jpg)"
   ]
  },
  {
   "cell_type": "markdown",
   "id": "e1f6963e-24bb-46c5-973e-782eac4d13bb",
   "metadata": {
    "tags": []
   },
   "source": [
    "### 1. Set up"
   ]
  },
  {
   "cell_type": "code",
   "execution_count": 1,
   "id": "8536ccfa-0eb0-4e1d-a5e8-a83c2815a36d",
   "metadata": {
    "scrolled": true,
    "tags": []
   },
   "outputs": [],
   "source": [
    "!pip install aws_requests_auth -q\n",
    "!pip install websocket-client -q"
   ]
  },
  {
   "cell_type": "code",
   "execution_count": 2,
   "id": "67817b97-c6a0-4233-b430-5322f36d6c58",
   "metadata": {
    "tags": []
   },
   "outputs": [],
   "source": [
    "import requests, urllib, json\n",
    "from aws_requests_auth.aws_auth import AWSRequestsAuth\n",
    "import boto3\n",
    "from helper.presigned_url import AWSAPIWebSocketPresignedURL"
   ]
  },
  {
   "cell_type": "code",
   "execution_count": 3,
   "id": "b57aa99b-a446-4f2f-8281-97bb12b8586b",
   "metadata": {
    "tags": []
   },
   "outputs": [],
   "source": [
    "deployment_output = json.load(open(\"./deployment-output.json\",\"r\"))\n",
    "api_url= deployment_output[\"RecommenderStack\"][\"apiurl\"]\n",
    "ws_api_endpoint = deployment_output[\"RecommenderStack\"][\"wsapiendpoint\"]\n",
    "ws_api_stage = deployment_output[\"RecommenderStack\"][\"wsapistage\"]"
   ]
  },
  {
   "cell_type": "markdown",
   "id": "a74e6b5e-cb02-4bba-ad97-4b963262bbdd",
   "metadata": {
    "tags": []
   },
   "source": [
    "### 2. Call the recommendation inference REST API"
   ]
  },
  {
   "cell_type": "markdown",
   "id": "d46347f9",
   "metadata": {},
   "source": [
    "Let's use the REST API to get a recommendation of a place to travel given a traveller bio as input. This is an example only. Here is a part of the flow diagram above which depicts this process.\n",
    "\n",
    "![Getting recommendation with REST API](assets/notebook-04-flow-step-2.jpg)"
   ]
  },
  {
   "cell_type": "markdown",
   "id": "21b3bf67",
   "metadata": {},
   "source": [
    "Create a new input depicted by \"Input A\" in the diagram above"
   ]
  },
  {
   "cell_type": "code",
   "execution_count": 4,
   "id": "c5efa451-c611-4a51-8a8b-980e3cd5cd67",
   "metadata": {
    "tags": []
   },
   "outputs": [],
   "source": [
    "new_input=\"\"\"Female, 30 years old, married\n",
    "I really want to celebrate my wedding anniversary with Husband. \n",
    "Somewhere where we can have a picnic with our own bento with wide view of sky and city.\"\"\""
   ]
  },
  {
   "cell_type": "code",
   "execution_count": 12,
   "id": "8ab251d8-9b97-4983-a01d-760dd33e069e",
   "metadata": {
    "tags": []
   },
   "outputs": [
    {
     "name": "stdout",
     "output_type": "stream",
     "text": [
      "<Response [200]>\n"
     ]
    },
    {
     "data": {
      "text/plain": [
       "{'items': [{'id': 2,\n",
       "   'distance': 13.254677930739156,\n",
       "   'description': \"\\nMarina Barrage\\nCountry: Singapore\\nThis is actually a dam built on the mouth of Marina Channel to supply fresh water to Singapore. It also functions as a flood control and as an attraction point for families.\\nIt's roof has grass with path for people to walk up from ground. Families can fly kites on that roof or just simply have a wide view of the Singapore city's buildings.\\nIt is also situated in the midst of cycling path that connects the East Coast Park cycling path and the city cycling path.\\n\"}]}"
      ]
     },
     "execution_count": 12,
     "metadata": {},
     "output_type": "execute_result"
    }
   ],
   "source": [
    "session = boto3.Session()\n",
    "credentials = session.get_credentials()\n",
    "\n",
    "payload = { \n",
    "    \"text\": new_input,\n",
    "    \"num_items\": 1, # Optional, defaulting to the recommendation parameter you set in notebook 02 and uploaded in notebook 03\n",
    "    \"num_types\": 1 # Optional, defaulting to the recommendation parameter you set in notebook 02 and uploaded in notebook 03\n",
    "}\n",
    "\n",
    "hostname = urllib.parse.urlparse(api_url).hostname \n",
    "\n",
    "auth = AWSRequestsAuth(aws_access_key=credentials.access_key,\n",
    "                       aws_secret_access_key=credentials.secret_key,\n",
    "                       aws_token=credentials.token,\n",
    "                       aws_host=hostname,\n",
    "                       aws_region=session.region_name,\n",
    "                       aws_service='execute-api')\n",
    "\n",
    "response = requests.post(api_url, auth=auth, json=payload, timeout=45)\n",
    "print(response)\n",
    "recommended_items = response.json()\n",
    "recommended_items"
   ]
  },
  {
   "cell_type": "markdown",
   "id": "41bf50ba",
   "metadata": {},
   "source": [
    "### 3. Call the recommendation inference WebSocket API"
   ]
  },
  {
   "cell_type": "markdown",
   "id": "133d169f",
   "metadata": {},
   "source": [
    "Since API Gateway REST API has a timeout of 29 seconds and sometimes the LLM takes more time to answer, we also deployed an API Gateway WebSocket API. Let's try to invoke it with the below code. This code (and the helper in separate file) is just an example to call the websocket endpoint using python client. The implementation can be different for other programming languages. Also, the example below also uses AWS SigV4 to authenticate with IAM since the WebSocket API is protected with IAM authentication.\n",
    "\n",
    "Let's use the WebSocket API to get a recommendation of a place to travel given a traveller bio as input. This is an example only. Here is a part of the flow diagram above which depicts this process.\n",
    "\n",
    "![Getting recommendation with WebSocket](assets/notebook-04-flow-step-3.jpg)"
   ]
  },
  {
   "cell_type": "code",
   "execution_count": 10,
   "id": "8fdc96c0",
   "metadata": {
    "tags": []
   },
   "outputs": [
    {
     "name": "stdout",
     "output_type": "stream",
     "text": [
      "Sending data\n",
      "Sent\n",
      "Receiving...\n"
     ]
    },
    {
     "data": {
      "text/plain": [
       "{'items': [{'id': 2,\n",
       "   'distance': 13.254677930739156,\n",
       "   'description': \"\\nMarina Barrage\\nCountry: Singapore\\nThis is actually a dam built on the mouth of Marina Channel to supply fresh water to Singapore. It also functions as a flood control and as an attraction point for families.\\nIt's roof has grass with path for people to walk up from ground. Families can fly kites on that roof or just simply have a wide view of the Singapore city's buildings.\\nIt is also situated in the midst of cycling path that connects the East Coast Park cycling path and the city cycling path.\\n\"}]}"
      ]
     },
     "execution_count": 10,
     "metadata": {},
     "output_type": "execute_result"
    }
   ],
   "source": [
    "from websocket import create_connection\n",
    "\n",
    "session = boto3.Session()\n",
    "credentials = session.get_credentials()\n",
    "\n",
    "path = f\"/{ws_api_stage}\"\n",
    "host = urllib.parse.urlparse(ws_api_endpoint).hostname \n",
    "access_key = credentials.access_key\n",
    "secret_key=credentials.secret_key\n",
    "session_token=credentials.token\n",
    "region = session.region_name\n",
    "\n",
    "ws_url_generator = AWSAPIWebSocketPresignedURL(access_key, secret_key, session_token, ws_api_endpoint, path, host,  region)\n",
    "request_url = ws_url_generator.get_request_url()\n",
    "\n",
    "payload ={\n",
    "    \"action\":\"inference\", \n",
    "    \"text\":new_input,\n",
    "    \"num_items\": 1,  # Optional, defaulting to the recommendation parameter you set in notebook 02 and uploaded in notebook 03\n",
    "    \"num_types\": 1 # Optional, defaulting to the recommendation parameter you set in notebook 02 and uploaded in notebook 03\n",
    "}\n",
    "\n",
    "ws = create_connection(request_url)\n",
    "print(\"Sending data\")\n",
    "ws.send(json.dumps(payload))\n",
    "print(\"Sent\")\n",
    "print(\"Receiving...\")\n",
    "result =  ws.recv()\n",
    "ws.close()\n",
    "\n",
    "json.loads(result)"
   ]
  },
  {
   "cell_type": "markdown",
   "id": "e259efdf",
   "metadata": {},
   "source": [
    "### 4. Call the data insert REST API"
   ]
  },
  {
   "cell_type": "markdown",
   "id": "e50c0abe",
   "metadata": {},
   "source": [
    "Not only getting recommendation, this solution also allows you to add more data items into the database.\n",
    "\n",
    "\n",
    "Let's use the REST API to insert a new place to travel in the database. We will then create a new traveller bio and test whether the recommender system can return our newly inserted data using the recommendation inference REST API. The use of travel recommendation context is an example only. Here is a part of the flow diagram above which depicts this process.\n",
    "\n",
    "![Insert data and verify with REST API](assets/notebook-04-flow-step-4.jpg)"
   ]
  },
  {
   "cell_type": "markdown",
   "id": "67da7659",
   "metadata": {},
   "source": [
    "Create a new item depicted by \"Item B\" in the diagram above"
   ]
  },
  {
   "cell_type": "code",
   "execution_count": 11,
   "id": "303d7491-5cd3-4475-a174-f8c725225c9c",
   "metadata": {
    "tags": []
   },
   "outputs": [],
   "source": [
    "new_item=\"\"\"Place: Botanic Gardens\n",
    "This wide area offers plenty of flowers for Singaporean and tourists to do sightseeing. People can go picnic there too.\n",
    "It has a national orchid garden inside it. There is a dome with controlled temperature, offering a variety of orchid flowers. If you are lucky you might catch a monitor lizard too.\n",
    "The park has multiple ponds, with swan to be seen in at least one of them.\n",
    "\"\"\""
   ]
  },
  {
   "cell_type": "code",
   "execution_count": 13,
   "id": "0b58d516-2452-4644-a59f-ba37e938421b",
   "metadata": {
    "tags": []
   },
   "outputs": [
    {
     "name": "stdout",
     "output_type": "stream",
     "text": [
      "<Response [200]>\n"
     ]
    }
   ],
   "source": [
    "session = boto3.Session()\n",
    "credentials = session.get_credentials()\n",
    "\n",
    "payload = { \"text\": new_item }\n",
    "\n",
    "hostname = urllib.parse.urlparse(api_url).hostname \n",
    "\n",
    "auth = AWSRequestsAuth(aws_access_key=credentials.access_key,\n",
    "                       aws_secret_access_key=credentials.secret_key,\n",
    "                       aws_token=credentials.token,\n",
    "                       aws_host=hostname,\n",
    "                       aws_region=session.region_name,\n",
    "                       aws_service='execute-api')\n",
    "\n",
    "response = requests.put(api_url, auth=auth, json=payload, timeout=45)\n",
    "print(response)"
   ]
  },
  {
   "cell_type": "markdown",
   "id": "cb935e1f",
   "metadata": {},
   "source": [
    "Create a new input depicted by \"Input B\" in the diagram above"
   ]
  },
  {
   "cell_type": "code",
   "execution_count": 14,
   "id": "773f5bbe",
   "metadata": {},
   "outputs": [],
   "source": [
    "new_input=\"\"\"Gender: Female\n",
    "Request: I wanna see some flowers, especially orchid.\"\"\""
   ]
  },
  {
   "cell_type": "markdown",
   "id": "37fb3920",
   "metadata": {},
   "source": [
    "Verify if the new data is already inserted and whether a specific input can trigger the recommender system to return recommend the newly inserted data."
   ]
  },
  {
   "cell_type": "code",
   "execution_count": 15,
   "id": "352eef5b",
   "metadata": {
    "tags": []
   },
   "outputs": [
    {
     "data": {
      "text/plain": [
       "{'items': [{'id': 4,\n",
       "   'distance': 10.578008983341084,\n",
       "   'description': 'Place: Botanic Gardens\\nThis wide area offers plenty of flowers for Singaporean and tourists to do sightseeing. People can go picnic there too.\\nIt has a national orchid garden inside it. There is a dome with controlled temperature, offering a variety of orchid flowers. If you are lucky you might catch a monitor lizard too.\\nThe park has multiple ponds, with swan to be seen in at least one of them.\\n'}]}"
      ]
     },
     "execution_count": 15,
     "metadata": {},
     "output_type": "execute_result"
    }
   ],
   "source": [
    "session = boto3.Session()\n",
    "credentials = session.get_credentials()\n",
    "\n",
    "payload = { \"text\": new_input }\n",
    "\n",
    "hostname = urllib.parse.urlparse(api_url).hostname \n",
    "\n",
    "auth = AWSRequestsAuth(aws_access_key=credentials.access_key,\n",
    "                       aws_secret_access_key=credentials.secret_key,\n",
    "                       aws_token=credentials.token,\n",
    "                       aws_host=hostname,\n",
    "                       aws_region=session.region_name,\n",
    "                       aws_service='execute-api')\n",
    "\n",
    "response = requests.post(api_url, auth=auth, json=payload, timeout=45)\n",
    "recommended_items = response.json()\n",
    "recommended_items"
   ]
  },
  {
   "cell_type": "markdown",
   "id": "485d7242",
   "metadata": {},
   "source": [
    "### 5. Call data insert WebSocket API"
   ]
  },
  {
   "cell_type": "markdown",
   "id": "53b6cf5d",
   "metadata": {},
   "source": [
    "We can also use WebSocket for inserting data\n",
    "\n",
    "\n",
    "Let's use the WebSocket API to insert a new place to travel in the database. We will then create a new traveller bio and test whether the recommender system can return our newly inserted data using the recommendation inference WebSocket API. The use of travel recommendation context is an example only. Here is a part of the flow diagram above which depicts this process.\n",
    "\n",
    "![Insert data and verify with WebSocket API](assets/notebook-04-flow-step-5.jpg)"
   ]
  },
  {
   "cell_type": "markdown",
   "id": "8097d746",
   "metadata": {},
   "source": [
    "Insert a new item, depicted by \"Item C\" in the diagram above"
   ]
  },
  {
   "cell_type": "code",
   "execution_count": 16,
   "id": "df0c2483",
   "metadata": {
    "tags": []
   },
   "outputs": [],
   "source": [
    "new_item=\"\"\"Place: Mount Faber Cable Car\n",
    "Description: This cable car spans from the peak of Mount Faber park to the Sentosa island. It passes through Harborfrount in the middle.\n",
    "The view includes a sea landscape, the city view of Singapore, and the Sentosa island with its attractions.\n",
    "You can use this cable car to have a complete roundtrip or to go to the Sentosa island.\n",
    "\"\"\""
   ]
  },
  {
   "cell_type": "code",
   "execution_count": 17,
   "id": "d2967548",
   "metadata": {
    "tags": []
   },
   "outputs": [
    {
     "name": "stdout",
     "output_type": "stream",
     "text": [
      "Sending data\n",
      "Sent\n",
      "Receiving...\n"
     ]
    },
    {
     "data": {
      "text/plain": [
       "'Data has been loaded'"
      ]
     },
     "execution_count": 17,
     "metadata": {},
     "output_type": "execute_result"
    }
   ],
   "source": [
    "session = boto3.Session()\n",
    "credentials = session.get_credentials()\n",
    "\n",
    "path = f\"/{ws_api_stage}\"\n",
    "host = urllib.parse.urlparse(ws_api_endpoint).hostname \n",
    "access_key = credentials.access_key\n",
    "secret_key=credentials.secret_key\n",
    "session_token=credentials.token\n",
    "region = session.region_name\n",
    "\n",
    "ws_url_generator = AWSAPIWebSocketPresignedURL(access_key, secret_key, session_token, ws_api_endpoint, path, host,  region)\n",
    "request_url = ws_url_generator.get_request_url()\n",
    "\n",
    "payload ={\n",
    "    \"action\":\"insertdata\", \n",
    "    \"text\":new_item,\n",
    "}\n",
    "\n",
    "ws = create_connection(request_url)\n",
    "print(\"Sending data\")\n",
    "ws.send(json.dumps(payload))\n",
    "print(\"Sent\")\n",
    "print(\"Receiving...\")\n",
    "result =  ws.recv()\n",
    "ws.close()\n",
    "\n",
    "result"
   ]
  },
  {
   "cell_type": "markdown",
   "id": "f8da99a5",
   "metadata": {},
   "source": [
    "Insert a new input, depicted by \"Input C\" in the diagram above"
   ]
  },
  {
   "cell_type": "code",
   "execution_count": 18,
   "id": "daad53eb",
   "metadata": {
    "tags": []
   },
   "outputs": [],
   "source": [
    "new_input=\"\"\"In this trip to Singapore, would it be possible to have a journey to the Sentosa with view from the sky?\"\"\""
   ]
  },
  {
   "cell_type": "markdown",
   "id": "2cdc2f2b",
   "metadata": {},
   "source": [
    "Verify if the new data is already inserted and whether a specific input can trigger the recommender system to return recommend the newly inserted data."
   ]
  },
  {
   "cell_type": "code",
   "execution_count": 19,
   "id": "35c31513",
   "metadata": {
    "tags": []
   },
   "outputs": [
    {
     "name": "stdout",
     "output_type": "stream",
     "text": [
      "Sending data\n",
      "Sent\n",
      "Receiving...\n",
      "{\"items\": [{\"id\": 5, \"distance\": 7.829937940689803, \"description\": \"Place: Mount Faber Cable Car\\nDescription: This cable car spans from the peak of Mount Faber park to the Sentosa island. It passes through Harborfrount in the middle.\\nThe view includes a sea landscape, the city view of Singapore, and the Sentosa island with its attractions.\\nYou can use this cable car to have a complete roundtrip or to go to the Sentosa island.\\n\"}]}\n"
     ]
    }
   ],
   "source": [
    "session = boto3.Session()\n",
    "credentials = session.get_credentials()\n",
    "\n",
    "path = f\"/{ws_api_stage}\"\n",
    "host = urllib.parse.urlparse(ws_api_endpoint).hostname \n",
    "access_key = credentials.access_key\n",
    "secret_key=credentials.secret_key\n",
    "session_token=credentials.token\n",
    "region = session.region_name\n",
    "\n",
    "ws_url_generator = AWSAPIWebSocketPresignedURL(access_key, secret_key, session_token, ws_api_endpoint, path, host,  region)\n",
    "request_url = ws_url_generator.get_request_url()\n",
    "\n",
    "payload = {\n",
    "    \"action\":\"inference\", \n",
    "    \"text\":new_input\n",
    "}\n",
    "    \n",
    "ws = create_connection(request_url)\n",
    "print(\"Sending data\")\n",
    "ws.send(json.dumps(payload))\n",
    "print(\"Sent\")\n",
    "print(\"Receiving...\")\n",
    "result =  ws.recv()\n",
    "print(result)\n",
    "ws.close()"
   ]
  }
 ],
 "metadata": {
  "availableInstances": [
   {
    "_defaultOrder": 0,
    "_isFastLaunch": true,
    "category": "General purpose",
    "gpuNum": 0,
    "hideHardwareSpecs": false,
    "memoryGiB": 4,
    "name": "ml.t3.medium",
    "vcpuNum": 2
   },
   {
    "_defaultOrder": 1,
    "_isFastLaunch": false,
    "category": "General purpose",
    "gpuNum": 0,
    "hideHardwareSpecs": false,
    "memoryGiB": 8,
    "name": "ml.t3.large",
    "vcpuNum": 2
   },
   {
    "_defaultOrder": 2,
    "_isFastLaunch": false,
    "category": "General purpose",
    "gpuNum": 0,
    "hideHardwareSpecs": false,
    "memoryGiB": 16,
    "name": "ml.t3.xlarge",
    "vcpuNum": 4
   },
   {
    "_defaultOrder": 3,
    "_isFastLaunch": false,
    "category": "General purpose",
    "gpuNum": 0,
    "hideHardwareSpecs": false,
    "memoryGiB": 32,
    "name": "ml.t3.2xlarge",
    "vcpuNum": 8
   },
   {
    "_defaultOrder": 4,
    "_isFastLaunch": true,
    "category": "General purpose",
    "gpuNum": 0,
    "hideHardwareSpecs": false,
    "memoryGiB": 8,
    "name": "ml.m5.large",
    "vcpuNum": 2
   },
   {
    "_defaultOrder": 5,
    "_isFastLaunch": false,
    "category": "General purpose",
    "gpuNum": 0,
    "hideHardwareSpecs": false,
    "memoryGiB": 16,
    "name": "ml.m5.xlarge",
    "vcpuNum": 4
   },
   {
    "_defaultOrder": 6,
    "_isFastLaunch": false,
    "category": "General purpose",
    "gpuNum": 0,
    "hideHardwareSpecs": false,
    "memoryGiB": 32,
    "name": "ml.m5.2xlarge",
    "vcpuNum": 8
   },
   {
    "_defaultOrder": 7,
    "_isFastLaunch": false,
    "category": "General purpose",
    "gpuNum": 0,
    "hideHardwareSpecs": false,
    "memoryGiB": 64,
    "name": "ml.m5.4xlarge",
    "vcpuNum": 16
   },
   {
    "_defaultOrder": 8,
    "_isFastLaunch": false,
    "category": "General purpose",
    "gpuNum": 0,
    "hideHardwareSpecs": false,
    "memoryGiB": 128,
    "name": "ml.m5.8xlarge",
    "vcpuNum": 32
   },
   {
    "_defaultOrder": 9,
    "_isFastLaunch": false,
    "category": "General purpose",
    "gpuNum": 0,
    "hideHardwareSpecs": false,
    "memoryGiB": 192,
    "name": "ml.m5.12xlarge",
    "vcpuNum": 48
   },
   {
    "_defaultOrder": 10,
    "_isFastLaunch": false,
    "category": "General purpose",
    "gpuNum": 0,
    "hideHardwareSpecs": false,
    "memoryGiB": 256,
    "name": "ml.m5.16xlarge",
    "vcpuNum": 64
   },
   {
    "_defaultOrder": 11,
    "_isFastLaunch": false,
    "category": "General purpose",
    "gpuNum": 0,
    "hideHardwareSpecs": false,
    "memoryGiB": 384,
    "name": "ml.m5.24xlarge",
    "vcpuNum": 96
   },
   {
    "_defaultOrder": 12,
    "_isFastLaunch": false,
    "category": "General purpose",
    "gpuNum": 0,
    "hideHardwareSpecs": false,
    "memoryGiB": 8,
    "name": "ml.m5d.large",
    "vcpuNum": 2
   },
   {
    "_defaultOrder": 13,
    "_isFastLaunch": false,
    "category": "General purpose",
    "gpuNum": 0,
    "hideHardwareSpecs": false,
    "memoryGiB": 16,
    "name": "ml.m5d.xlarge",
    "vcpuNum": 4
   },
   {
    "_defaultOrder": 14,
    "_isFastLaunch": false,
    "category": "General purpose",
    "gpuNum": 0,
    "hideHardwareSpecs": false,
    "memoryGiB": 32,
    "name": "ml.m5d.2xlarge",
    "vcpuNum": 8
   },
   {
    "_defaultOrder": 15,
    "_isFastLaunch": false,
    "category": "General purpose",
    "gpuNum": 0,
    "hideHardwareSpecs": false,
    "memoryGiB": 64,
    "name": "ml.m5d.4xlarge",
    "vcpuNum": 16
   },
   {
    "_defaultOrder": 16,
    "_isFastLaunch": false,
    "category": "General purpose",
    "gpuNum": 0,
    "hideHardwareSpecs": false,
    "memoryGiB": 128,
    "name": "ml.m5d.8xlarge",
    "vcpuNum": 32
   },
   {
    "_defaultOrder": 17,
    "_isFastLaunch": false,
    "category": "General purpose",
    "gpuNum": 0,
    "hideHardwareSpecs": false,
    "memoryGiB": 192,
    "name": "ml.m5d.12xlarge",
    "vcpuNum": 48
   },
   {
    "_defaultOrder": 18,
    "_isFastLaunch": false,
    "category": "General purpose",
    "gpuNum": 0,
    "hideHardwareSpecs": false,
    "memoryGiB": 256,
    "name": "ml.m5d.16xlarge",
    "vcpuNum": 64
   },
   {
    "_defaultOrder": 19,
    "_isFastLaunch": false,
    "category": "General purpose",
    "gpuNum": 0,
    "hideHardwareSpecs": false,
    "memoryGiB": 384,
    "name": "ml.m5d.24xlarge",
    "vcpuNum": 96
   },
   {
    "_defaultOrder": 20,
    "_isFastLaunch": false,
    "category": "General purpose",
    "gpuNum": 0,
    "hideHardwareSpecs": true,
    "memoryGiB": 0,
    "name": "ml.geospatial.interactive",
    "supportedImageNames": [
     "sagemaker-geospatial-v1-0"
    ],
    "vcpuNum": 0
   },
   {
    "_defaultOrder": 21,
    "_isFastLaunch": true,
    "category": "Compute optimized",
    "gpuNum": 0,
    "hideHardwareSpecs": false,
    "memoryGiB": 4,
    "name": "ml.c5.large",
    "vcpuNum": 2
   },
   {
    "_defaultOrder": 22,
    "_isFastLaunch": false,
    "category": "Compute optimized",
    "gpuNum": 0,
    "hideHardwareSpecs": false,
    "memoryGiB": 8,
    "name": "ml.c5.xlarge",
    "vcpuNum": 4
   },
   {
    "_defaultOrder": 23,
    "_isFastLaunch": false,
    "category": "Compute optimized",
    "gpuNum": 0,
    "hideHardwareSpecs": false,
    "memoryGiB": 16,
    "name": "ml.c5.2xlarge",
    "vcpuNum": 8
   },
   {
    "_defaultOrder": 24,
    "_isFastLaunch": false,
    "category": "Compute optimized",
    "gpuNum": 0,
    "hideHardwareSpecs": false,
    "memoryGiB": 32,
    "name": "ml.c5.4xlarge",
    "vcpuNum": 16
   },
   {
    "_defaultOrder": 25,
    "_isFastLaunch": false,
    "category": "Compute optimized",
    "gpuNum": 0,
    "hideHardwareSpecs": false,
    "memoryGiB": 72,
    "name": "ml.c5.9xlarge",
    "vcpuNum": 36
   },
   {
    "_defaultOrder": 26,
    "_isFastLaunch": false,
    "category": "Compute optimized",
    "gpuNum": 0,
    "hideHardwareSpecs": false,
    "memoryGiB": 96,
    "name": "ml.c5.12xlarge",
    "vcpuNum": 48
   },
   {
    "_defaultOrder": 27,
    "_isFastLaunch": false,
    "category": "Compute optimized",
    "gpuNum": 0,
    "hideHardwareSpecs": false,
    "memoryGiB": 144,
    "name": "ml.c5.18xlarge",
    "vcpuNum": 72
   },
   {
    "_defaultOrder": 28,
    "_isFastLaunch": false,
    "category": "Compute optimized",
    "gpuNum": 0,
    "hideHardwareSpecs": false,
    "memoryGiB": 192,
    "name": "ml.c5.24xlarge",
    "vcpuNum": 96
   },
   {
    "_defaultOrder": 29,
    "_isFastLaunch": true,
    "category": "Accelerated computing",
    "gpuNum": 1,
    "hideHardwareSpecs": false,
    "memoryGiB": 16,
    "name": "ml.g4dn.xlarge",
    "vcpuNum": 4
   },
   {
    "_defaultOrder": 30,
    "_isFastLaunch": false,
    "category": "Accelerated computing",
    "gpuNum": 1,
    "hideHardwareSpecs": false,
    "memoryGiB": 32,
    "name": "ml.g4dn.2xlarge",
    "vcpuNum": 8
   },
   {
    "_defaultOrder": 31,
    "_isFastLaunch": false,
    "category": "Accelerated computing",
    "gpuNum": 1,
    "hideHardwareSpecs": false,
    "memoryGiB": 64,
    "name": "ml.g4dn.4xlarge",
    "vcpuNum": 16
   },
   {
    "_defaultOrder": 32,
    "_isFastLaunch": false,
    "category": "Accelerated computing",
    "gpuNum": 1,
    "hideHardwareSpecs": false,
    "memoryGiB": 128,
    "name": "ml.g4dn.8xlarge",
    "vcpuNum": 32
   },
   {
    "_defaultOrder": 33,
    "_isFastLaunch": false,
    "category": "Accelerated computing",
    "gpuNum": 4,
    "hideHardwareSpecs": false,
    "memoryGiB": 192,
    "name": "ml.g4dn.12xlarge",
    "vcpuNum": 48
   },
   {
    "_defaultOrder": 34,
    "_isFastLaunch": false,
    "category": "Accelerated computing",
    "gpuNum": 1,
    "hideHardwareSpecs": false,
    "memoryGiB": 256,
    "name": "ml.g4dn.16xlarge",
    "vcpuNum": 64
   },
   {
    "_defaultOrder": 35,
    "_isFastLaunch": false,
    "category": "Accelerated computing",
    "gpuNum": 1,
    "hideHardwareSpecs": false,
    "memoryGiB": 61,
    "name": "ml.p3.2xlarge",
    "vcpuNum": 8
   },
   {
    "_defaultOrder": 36,
    "_isFastLaunch": false,
    "category": "Accelerated computing",
    "gpuNum": 4,
    "hideHardwareSpecs": false,
    "memoryGiB": 244,
    "name": "ml.p3.8xlarge",
    "vcpuNum": 32
   },
   {
    "_defaultOrder": 37,
    "_isFastLaunch": false,
    "category": "Accelerated computing",
    "gpuNum": 8,
    "hideHardwareSpecs": false,
    "memoryGiB": 488,
    "name": "ml.p3.16xlarge",
    "vcpuNum": 64
   },
   {
    "_defaultOrder": 38,
    "_isFastLaunch": false,
    "category": "Accelerated computing",
    "gpuNum": 8,
    "hideHardwareSpecs": false,
    "memoryGiB": 768,
    "name": "ml.p3dn.24xlarge",
    "vcpuNum": 96
   },
   {
    "_defaultOrder": 39,
    "_isFastLaunch": false,
    "category": "Memory Optimized",
    "gpuNum": 0,
    "hideHardwareSpecs": false,
    "memoryGiB": 16,
    "name": "ml.r5.large",
    "vcpuNum": 2
   },
   {
    "_defaultOrder": 40,
    "_isFastLaunch": false,
    "category": "Memory Optimized",
    "gpuNum": 0,
    "hideHardwareSpecs": false,
    "memoryGiB": 32,
    "name": "ml.r5.xlarge",
    "vcpuNum": 4
   },
   {
    "_defaultOrder": 41,
    "_isFastLaunch": false,
    "category": "Memory Optimized",
    "gpuNum": 0,
    "hideHardwareSpecs": false,
    "memoryGiB": 64,
    "name": "ml.r5.2xlarge",
    "vcpuNum": 8
   },
   {
    "_defaultOrder": 42,
    "_isFastLaunch": false,
    "category": "Memory Optimized",
    "gpuNum": 0,
    "hideHardwareSpecs": false,
    "memoryGiB": 128,
    "name": "ml.r5.4xlarge",
    "vcpuNum": 16
   },
   {
    "_defaultOrder": 43,
    "_isFastLaunch": false,
    "category": "Memory Optimized",
    "gpuNum": 0,
    "hideHardwareSpecs": false,
    "memoryGiB": 256,
    "name": "ml.r5.8xlarge",
    "vcpuNum": 32
   },
   {
    "_defaultOrder": 44,
    "_isFastLaunch": false,
    "category": "Memory Optimized",
    "gpuNum": 0,
    "hideHardwareSpecs": false,
    "memoryGiB": 384,
    "name": "ml.r5.12xlarge",
    "vcpuNum": 48
   },
   {
    "_defaultOrder": 45,
    "_isFastLaunch": false,
    "category": "Memory Optimized",
    "gpuNum": 0,
    "hideHardwareSpecs": false,
    "memoryGiB": 512,
    "name": "ml.r5.16xlarge",
    "vcpuNum": 64
   },
   {
    "_defaultOrder": 46,
    "_isFastLaunch": false,
    "category": "Memory Optimized",
    "gpuNum": 0,
    "hideHardwareSpecs": false,
    "memoryGiB": 768,
    "name": "ml.r5.24xlarge",
    "vcpuNum": 96
   },
   {
    "_defaultOrder": 47,
    "_isFastLaunch": false,
    "category": "Accelerated computing",
    "gpuNum": 1,
    "hideHardwareSpecs": false,
    "memoryGiB": 16,
    "name": "ml.g5.xlarge",
    "vcpuNum": 4
   },
   {
    "_defaultOrder": 48,
    "_isFastLaunch": false,
    "category": "Accelerated computing",
    "gpuNum": 1,
    "hideHardwareSpecs": false,
    "memoryGiB": 32,
    "name": "ml.g5.2xlarge",
    "vcpuNum": 8
   },
   {
    "_defaultOrder": 49,
    "_isFastLaunch": false,
    "category": "Accelerated computing",
    "gpuNum": 1,
    "hideHardwareSpecs": false,
    "memoryGiB": 64,
    "name": "ml.g5.4xlarge",
    "vcpuNum": 16
   },
   {
    "_defaultOrder": 50,
    "_isFastLaunch": false,
    "category": "Accelerated computing",
    "gpuNum": 1,
    "hideHardwareSpecs": false,
    "memoryGiB": 128,
    "name": "ml.g5.8xlarge",
    "vcpuNum": 32
   },
   {
    "_defaultOrder": 51,
    "_isFastLaunch": false,
    "category": "Accelerated computing",
    "gpuNum": 1,
    "hideHardwareSpecs": false,
    "memoryGiB": 256,
    "name": "ml.g5.16xlarge",
    "vcpuNum": 64
   },
   {
    "_defaultOrder": 52,
    "_isFastLaunch": false,
    "category": "Accelerated computing",
    "gpuNum": 4,
    "hideHardwareSpecs": false,
    "memoryGiB": 192,
    "name": "ml.g5.12xlarge",
    "vcpuNum": 48
   },
   {
    "_defaultOrder": 53,
    "_isFastLaunch": false,
    "category": "Accelerated computing",
    "gpuNum": 4,
    "hideHardwareSpecs": false,
    "memoryGiB": 384,
    "name": "ml.g5.24xlarge",
    "vcpuNum": 96
   },
   {
    "_defaultOrder": 54,
    "_isFastLaunch": false,
    "category": "Accelerated computing",
    "gpuNum": 8,
    "hideHardwareSpecs": false,
    "memoryGiB": 768,
    "name": "ml.g5.48xlarge",
    "vcpuNum": 192
   },
   {
    "_defaultOrder": 55,
    "_isFastLaunch": false,
    "category": "Accelerated computing",
    "gpuNum": 8,
    "hideHardwareSpecs": false,
    "memoryGiB": 1152,
    "name": "ml.p4d.24xlarge",
    "vcpuNum": 96
   },
   {
    "_defaultOrder": 56,
    "_isFastLaunch": false,
    "category": "Accelerated computing",
    "gpuNum": 8,
    "hideHardwareSpecs": false,
    "memoryGiB": 1152,
    "name": "ml.p4de.24xlarge",
    "vcpuNum": 96
   }
  ],
  "instance_type": "ml.t3.medium",
  "kernelspec": {
   "display_name": "Python 3 (ipykernel)",
   "language": "python",
   "name": "python3"
  },
  "language_info": {
   "codemirror_mode": {
    "name": "ipython",
    "version": 3
   },
   "file_extension": ".py",
   "mimetype": "text/x-python",
   "name": "python",
   "nbconvert_exporter": "python",
   "pygments_lexer": "ipython3",
   "version": "3.10.13"
  }
 },
 "nbformat": 4,
 "nbformat_minor": 5
}
